{
  "nbformat": 4,
  "nbformat_minor": 0,
  "metadata": {
    "colab": {
      "name": "Untitled0.ipynb",
      "provenance": [],
      "authorship_tag": "ABX9TyM7WDQLlvOGwZmA+tImDYAw"
    },
    "kernelspec": {
      "name": "python3",
      "display_name": "Python 3"
    },
    "language_info": {
      "name": "python"
    }
  },
  "cells": [
    {
      "cell_type": "code",
      "execution_count": 24,
      "metadata": {
        "colab": {
          "base_uri": "https://localhost:8080/"
        },
        "id": "Q2jsJhCoxkQ5",
        "outputId": "548289bc-2860-4c48-d341-7b6ea76bf1f4"
      },
      "outputs": [
        {
          "output_type": "stream",
          "name": "stdout",
          "text": [
            "Digite um número inteiro: 8\n",
            "Digite outro número inteiro: 4\n",
            "O resultado da soma de 8 e 4 é: 12 \n",
            "O resultado da soma de 8 e 4 é: 12\n"
          ]
        }
      ],
      "source": [
        "#Excercício 2\n",
        "# Criando um algoritmo que solicita do usuário dois números inteiros e imprima na tela.\n",
        "x = int(input('Digite um número inteiro: '))\n",
        "y = int(input('Digite outro número inteiro: '))\n",
        "\n",
        "#Modo 1\n",
        "resultado = 'O resultado da soma de %i e %i é: %i ' % (x, y, x + y)\n",
        "print(resultado)\n",
        "\n",
        "#modo 2\n",
        "\n",
        "resultado ='O resultado da soma de {} e {} é: {}' .format(x, y, x+y)\n",
        "print(resultado)"
      ]
    }
  ]
}