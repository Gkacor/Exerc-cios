{
  "nbformat": 4,
  "nbformat_minor": 0,
  "metadata": {
    "colab": {
      "name": "Untitled0.ipynb",
      "provenance": [],
      "authorship_tag": "ABX9TyM83mRFHqMYVXTf5shFNC4o"
    },
    "kernelspec": {
      "name": "python3",
      "display_name": "Python 3"
    },
    "language_info": {
      "name": "python"
    }
  },
  "cells": [
    {
      "cell_type": "code",
      "execution_count": 18,
      "metadata": {
        "colab": {
          "base_uri": "https://localhost:8080/"
        },
        "id": "Q2jsJhCoxkQ5",
        "outputId": "2cffa079-7563-45ad-fbec-77e760f5a85c"
      },
      "outputs": [
        {
          "output_type": "stream",
          "name": "stdout",
          "text": [
            "Qual é o seu nome? Gabriel\n",
            "Olá Gabriel!\n",
            "Idade? 25 anos\n",
            "Sua idade é: 25 anos\n",
            "Nota da disciplina: 82\n",
            "Sua nota é: 82.0\n"
          ]
        }
      ],
      "source": [
        "nome = input('Qual é o seu nome? ')\n",
        "print('Olá {}!'.format(nome)) \n",
        "\n",
        "idade = input('Idade? ')\n",
        "print('Sua idade é: {}'.format(idade))\n",
        "\n",
        "nota = float(input('Nota da disciplina: '))\n",
        "print('Sua nota é: {}'.format(nota))"
      ]
    }
  ]
}
